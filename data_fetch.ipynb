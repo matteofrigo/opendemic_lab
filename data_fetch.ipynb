{
  "nbformat": 4,
  "nbformat_minor": 0,
  "metadata": {
    "colab": {
      "name": "covid_data_management.ipynb",
      "provenance": []
    },
    "kernelspec": {
      "name": "python3",
      "display_name": "Python 3"
    }
  },
  "cells": [
    {
      "cell_type": "code",
      "metadata": {
        "id": "br1NGSogn-Jt",
        "colab_type": "code",
        "colab": {}
      },
      "source": [
        "import numpy as np\n",
        "import pandas as pd\n",
        "from datetime import datetime\n",
        "\n",
        "import matplotlib.pyplot as plt\n",
        "%matplotlib inline"
      ],
      "execution_count": 0,
      "outputs": []
    },
    {
      "cell_type": "markdown",
      "metadata": {
        "id": "QEF5p2I-5vUN",
        "colab_type": "text"
      },
      "source": [
        "### States that can be queried\n",
        "There are in total 56 administrative regions in the USA. They are listed here below, where the dictionary `code2name` is defined with keys equal to the state codes (e.g. FL or NY) and the values are the corrisponding names of the states (Florida and New York for the previous examples).\n",
        "\n"
      ]
    },
    {
      "cell_type": "code",
      "metadata": {
        "id": "cLBxBWuSzcet",
        "colab_type": "code",
        "colab": {
          "base_uri": "https://localhost:8080/",
          "height": 1000
        },
        "outputId": "b627bdff-8155-4474-ec0f-596ad384ee31"
      },
      "source": [
        "USA_STATE_CODES = ['AK', 'AL', 'AR', 'AS', 'AZ', 'CA', 'CO', 'CT', 'DC', 'DE',\n",
        "                   'FL', 'GA', 'GU', 'HI', 'IA', 'ID', 'IL', 'IN', 'KS', 'KY',\n",
        "                   'LA', 'MA', 'MD', 'ME', 'MI', 'MN', 'MO', 'MP', 'MS', 'MT',\n",
        "                   'NC', 'ND', 'NE', 'NH', 'NJ', 'NM', 'NV', 'NY', 'OH', 'OK',\n",
        "                   'OR', 'PA', 'PR', 'RI', 'SC', 'SD', 'TN', 'TX', 'UT', 'VA',\n",
        "                   'VI', 'VT', 'WA', 'WI', 'WV', 'WY']\n",
        "\n",
        "df = pd.read_json('https://covidtracking.com/api/v1/states/info.json')\n",
        "code2name = {}\n",
        "name2code = {}\n",
        "for code in USA_STATE_CODES:\n",
        "  name = df[df['state'] == code]['name'].values[0]\n",
        "  code2name[code] = name\n",
        "  name2code[name] = code\n",
        "  print(code, name)"
      ],
      "execution_count": 2,
      "outputs": [
        {
          "output_type": "stream",
          "text": [
            "AK Alaska\n",
            "AL Alabama\n",
            "AR Arkansas\n",
            "AS American Samoa\n",
            "AZ Arizona\n",
            "CA California\n",
            "CO Colorado\n",
            "CT Connecticut\n",
            "DC District Of Columbia\n",
            "DE Delaware\n",
            "FL Florida\n",
            "GA Georgia\n",
            "GU Guam\n",
            "HI Hawaii\n",
            "IA Iowa\n",
            "ID Idaho\n",
            "IL Illinois\n",
            "IN Indiana\n",
            "KS Kansas\n",
            "KY Kentucky\n",
            "LA Louisiana\n",
            "MA Massachusetts\n",
            "MD Maryland\n",
            "ME Maine\n",
            "MI Michigan\n",
            "MN Minnesota\n",
            "MO Missouri\n",
            "MP Northern Mariana Islands\n",
            "MS Mississippi\n",
            "MT Montana\n",
            "NC North Carolina\n",
            "ND North Dakota\n",
            "NE Nebraska\n",
            "NH New Hampshire\n",
            "NJ New Jersey\n",
            "NM New Mexico\n",
            "NV Nevada\n",
            "NY New York\n",
            "OH Ohio\n",
            "OK Oklahoma\n",
            "OR Oregon\n",
            "PA Pennsylvania\n",
            "PR Puerto Rico\n",
            "RI Rhode Island\n",
            "SC South Carolina\n",
            "SD South Dakota\n",
            "TN Tennessee\n",
            "TX Texas\n",
            "UT Utah\n",
            "VA Virginia\n",
            "VI US Virgin Islands\n",
            "VT Vermont\n",
            "WA Washington\n",
            "WI Wisconsin\n",
            "WV West Virginia\n",
            "WY Wyoming\n"
          ],
          "name": "stdout"
        }
      ]
    },
    {
      "cell_type": "markdown",
      "metadata": {
        "id": "2oIVgMXF6fOk",
        "colab_type": "text"
      },
      "source": [
        "# Database\n",
        "The data in a single region are incapsulated as instances of the `RegionData` class defined in the forthcoming code cell. The object can be instantiated with the default initializator (see docstring) or by fetching the data from the COVID Tracking Project. In this case, it is possible to specify the state for which the database is going to be fetched or data for the whole USA can be selected. The database can be represented as a Pandas dataframe or as Numpy arrays.\n",
        "\n",
        "Examples will be shown after the definition of the class."
      ]
    },
    {
      "cell_type": "code",
      "metadata": {
        "id": "e_pwm3gCoJa8",
        "colab_type": "code",
        "colab": {}
      },
      "source": [
        "class RegionData():\n",
        "  def __init__(self, name, code, dates, cases):\n",
        "    self._name = str(name)\n",
        "    self._code = str(code)\n",
        "\n",
        "    if len(dates) != np.unique(dates).size:\n",
        "      raise ValueError('Values of `dates` are not unique.')\n",
        "    if len(dates) != len(cases):\n",
        "      raise ValueError('`dates` and `cases` must have the same length.')\n",
        "\n",
        "    self._dates = np.asarray(dates)\n",
        "    self._cases = np.asarray(cases).astype(np.int32)\n",
        "\n",
        "  @property\n",
        "  def name(self):\n",
        "    return self._name\n",
        "  \n",
        "  @property\n",
        "  def cases(self):\n",
        "    return self._cases\n",
        "\n",
        "  @property\n",
        "  def code(self):\n",
        "    return self._code\n",
        "  \n",
        "  @property\n",
        "  def dates(self):\n",
        "    return self._dates\n",
        "  \n",
        "  @property\n",
        "  def asdf(self):\n",
        "    \"\"\"Return the data as a Pandas DataFrame object.\"\"\"\n",
        "    frame = {}\n",
        "    frame['dates'] = self.dates\n",
        "    frame['cases'] = self.cases\n",
        "    return pd.DataFrame(frame)\n",
        "  \n",
        "  @classmethod\n",
        "  def from_ctp(cls, state='ALL'):\n",
        "    \"\"\"\"Fetch data from Covid Tracking Project\n",
        "    \n",
        "    Args:\n",
        "      state: str\n",
        "        State code (e.g. NY or AK). If `all` or `US`, data will be fetched for\n",
        "        the whole USA.\n",
        "    Return:\n",
        "      RegionData object.\n",
        "    \"\"\"\n",
        "    state = state.upper()\n",
        "    df = pd.read_json('https://covidtracking.com/api/v1/states/daily.json')\n",
        "\n",
        "    if state in ['ALL', 'US']:\n",
        "      # extract the dates and positives from the database\n",
        "      dates = np.unique(df['date'].to_numpy())  # ensures chronological order\n",
        "      cases = np.zeros(len(dates))\n",
        "      for k, d in enumerate(dates):\n",
        "        # aggregate the data of each state\n",
        "        c = df[df['date'] == d]['positive'].to_numpy()\n",
        "        c[np.isnan(c)] = 0\n",
        "        cases[k] = c.sum()\n",
        "      # TODO: change when `all` will not be only US\n",
        "      name = 'United States of America'\n",
        "      code = 'US'\n",
        "    elif state in USA_STATE_CODES:\n",
        "      df = df[df['state'] == state]\n",
        "      dates = df['date'].to_numpy()\n",
        "      # ensure chronological order\n",
        "      order = np.argsort(dates)\n",
        "      dates = dates[order]\n",
        "      cases = df['positive'].to_numpy()[order]\n",
        "      code = state\n",
        "      name = code2name[code]\n",
        "    else:\n",
        "      raise ValueError('The given state cannot be processed.')\n",
        "  \n",
        "    # convert dates to python standard format\n",
        "    dates = [datetime.strptime(str(d), '%Y%m%d') for d in dates]\n",
        "\n",
        "    return cls(name, code, dates, cases)\n",
        "\n",
        "  def __str__(self):\n",
        "    s = (\n",
        "      f'Region: {self.name}, {self.code}\\n' + \n",
        "      f'N. data points: {len(self.dates)}.\\n' +\n",
        "      f'Dates from {self.dates[0]} to {self.dates[-1]}.\\n' +\n",
        "      f'Cases at {self.dates[-1]}: {self.cases[-1]}.'\n",
        "    )\n",
        "    return s\n"
      ],
      "execution_count": 0,
      "outputs": []
    },
    {
      "cell_type": "markdown",
      "metadata": {
        "id": "0qRO-wtH-ZO-",
        "colab_type": "text"
      },
      "source": [
        "# Examples\n",
        "In the following examples we are going to see how to use the `RegionData` object with data from the COVID19 Tracking Project. The reported number of cases corresponds to the number of tests with positive outcome."
      ]
    },
    {
      "cell_type": "markdown",
      "metadata": {
        "id": "i7q9H4_L-baO",
        "colab_type": "text"
      },
      "source": [
        "### California\n",
        "Let's consider the state of California, whose code is CA."
      ]
    },
    {
      "cell_type": "code",
      "metadata": {
        "id": "35gMd95wswYN",
        "colab_type": "code",
        "colab": {
          "base_uri": "https://localhost:8080/",
          "height": 90
        },
        "outputId": "529ce45f-96a2-4ad7-dbcc-9f618c62b88f"
      },
      "source": [
        "cali = RegionData.from_ctp(state='CA')\n",
        "print(cali)"
      ],
      "execution_count": 4,
      "outputs": [
        {
          "output_type": "stream",
          "text": [
            "Region: California, CA\n",
            "N. data points: 47.\n",
            "Dates from 2020-03-04 00:00:00 to 2020-04-19 00:00:00.\n",
            "Cases at 2020-04-19 00:00:00: 30333.\n"
          ],
          "name": "stdout"
        }
      ]
    },
    {
      "cell_type": "markdown",
      "metadata": {
        "id": "xeG0RlTDAQVC",
        "colab_type": "text"
      },
      "source": [
        "We can see that for California we have 46 data points from March 4th, 2020 to April 18th, 2020. The last information reports 28963 cases.\n",
        "\n",
        "We can look at these data as a Pandas dataframe."
      ]
    },
    {
      "cell_type": "code",
      "metadata": {
        "id": "odat4gaNBLvz",
        "colab_type": "code",
        "colab": {
          "base_uri": "https://localhost:8080/",
          "height": 206
        },
        "outputId": "e7c22de9-d489-4231-a3c4-2a719c5c7c35"
      },
      "source": [
        "df = cali.asdf # AS Data Frame\n",
        "df.head()"
      ],
      "execution_count": 5,
      "outputs": [
        {
          "output_type": "execute_result",
          "data": {
            "text/html": [
              "<div>\n",
              "<style scoped>\n",
              "    .dataframe tbody tr th:only-of-type {\n",
              "        vertical-align: middle;\n",
              "    }\n",
              "\n",
              "    .dataframe tbody tr th {\n",
              "        vertical-align: top;\n",
              "    }\n",
              "\n",
              "    .dataframe thead th {\n",
              "        text-align: right;\n",
              "    }\n",
              "</style>\n",
              "<table border=\"1\" class=\"dataframe\">\n",
              "  <thead>\n",
              "    <tr style=\"text-align: right;\">\n",
              "      <th></th>\n",
              "      <th>dates</th>\n",
              "      <th>cases</th>\n",
              "    </tr>\n",
              "  </thead>\n",
              "  <tbody>\n",
              "    <tr>\n",
              "      <th>0</th>\n",
              "      <td>2020-03-04</td>\n",
              "      <td>53</td>\n",
              "    </tr>\n",
              "    <tr>\n",
              "      <th>1</th>\n",
              "      <td>2020-03-05</td>\n",
              "      <td>53</td>\n",
              "    </tr>\n",
              "    <tr>\n",
              "      <th>2</th>\n",
              "      <td>2020-03-06</td>\n",
              "      <td>60</td>\n",
              "    </tr>\n",
              "    <tr>\n",
              "      <th>3</th>\n",
              "      <td>2020-03-07</td>\n",
              "      <td>69</td>\n",
              "    </tr>\n",
              "    <tr>\n",
              "      <th>4</th>\n",
              "      <td>2020-03-08</td>\n",
              "      <td>88</td>\n",
              "    </tr>\n",
              "  </tbody>\n",
              "</table>\n",
              "</div>"
            ],
            "text/plain": [
              "       dates  cases\n",
              "0 2020-03-04     53\n",
              "1 2020-03-05     53\n",
              "2 2020-03-06     60\n",
              "3 2020-03-07     69\n",
              "4 2020-03-08     88"
            ]
          },
          "metadata": {
            "tags": []
          },
          "execution_count": 5
        }
      ]
    },
    {
      "cell_type": "markdown",
      "metadata": {
        "id": "5kQ5AKpmB36Y",
        "colab_type": "text"
      },
      "source": [
        "Additionally, we can inspect the cases and the dates as numpy arrays from the corresponding properties of the `cali` object."
      ]
    },
    {
      "cell_type": "code",
      "metadata": {
        "id": "RIQroSKSBPaj",
        "colab_type": "code",
        "colab": {
          "base_uri": "https://localhost:8080/",
          "height": 35
        },
        "outputId": "bc2153ef-c1e8-4ca3-d15a-c3939e7656f2"
      },
      "source": [
        "cali.cases[-5:] # this is a numpy array of int32"
      ],
      "execution_count": 6,
      "outputs": [
        {
          "output_type": "execute_result",
          "data": {
            "text/plain": [
              "array([24424, 26182, 27528, 28963, 30333], dtype=int32)"
            ]
          },
          "metadata": {
            "tags": []
          },
          "execution_count": 6
        }
      ]
    },
    {
      "cell_type": "code",
      "metadata": {
        "id": "RZ4AnPFwCC6k",
        "colab_type": "code",
        "colab": {
          "base_uri": "https://localhost:8080/",
          "height": 108
        },
        "outputId": "2402d6b6-e9f7-4749-f9b3-fd41df470d80"
      },
      "source": [
        "cali.dates[-5:] # this is a numpy array of datetime objects"
      ],
      "execution_count": 7,
      "outputs": [
        {
          "output_type": "execute_result",
          "data": {
            "text/plain": [
              "array([datetime.datetime(2020, 4, 15, 0, 0),\n",
              "       datetime.datetime(2020, 4, 16, 0, 0),\n",
              "       datetime.datetime(2020, 4, 17, 0, 0),\n",
              "       datetime.datetime(2020, 4, 18, 0, 0),\n",
              "       datetime.datetime(2020, 4, 19, 0, 0)], dtype=object)"
            ]
          },
          "metadata": {
            "tags": []
          },
          "execution_count": 7
        }
      ]
    },
    {
      "cell_type": "markdown",
      "metadata": {
        "id": "qfARh3roDV1k",
        "colab_type": "text"
      },
      "source": [
        "Notice that the dates are given as [datetime](https://docs.python.org/3/library/datetime.html#datetime.datetime) objects."
      ]
    },
    {
      "cell_type": "code",
      "metadata": {
        "id": "vcC1UO6yEeFV",
        "colab_type": "code",
        "colab": {
          "base_uri": "https://localhost:8080/",
          "height": 365
        },
        "outputId": "33f60818-d0ab-49b4-c1c5-6bdf8c4d47b4"
      },
      "source": [
        "plt.title(f'Number of COVID19 cases in {cali.name}')\n",
        "plt.plot(cali.dates, cali.cases, label=cali.code)\n",
        "plt.xticks(rotation=70)"
      ],
      "execution_count": 8,
      "outputs": [
        {
          "output_type": "execute_result",
          "data": {
            "text/plain": [
              "(array([737492., 737499., 737506., 737516., 737523., 737530.]),\n",
              " <a list of 6 Text major ticklabel objects>)"
            ]
          },
          "metadata": {
            "tags": []
          },
          "execution_count": 8
        },
        {
          "output_type": "display_data",
          "data": {
            "image/png": "[encoded data removed]",
            "text/plain": [
              "<Figure size 432x288 with 1 Axes>"
            ]
          },
          "metadata": {
            "tags": [],
            "needs_background": "light"
          }
        }
      ]
    },
    {
      "cell_type": "markdown",
      "metadata": {
        "id": "FFzAeBy6K0ao",
        "colab_type": "text"
      },
      "source": [
        "### United States of America\n",
        "If we want to have an overview on all the available data, we just need to call the `RegionData.from_ctp` function with `'US'` as argument or without passing any, in which case the default value `'ALL'` is used."
      ]
    },
    {
      "cell_type": "code",
      "metadata": {
        "id": "IqcB4xQeEfuF",
        "colab_type": "code",
        "colab": {}
      },
      "source": [
        "data_all = RegionData.from_ctp()\n",
        "data_us = RegionData.from_ctp('US')"
      ],
      "execution_count": 0,
      "outputs": []
    },
    {
      "cell_type": "code",
      "metadata": {
        "id": "BkpkCij-bSXl",
        "colab_type": "code",
        "colab": {
          "base_uri": "https://localhost:8080/",
          "height": 53
        },
        "outputId": "ed5f4985-48de-43f0-b8b5-6b0db0dcb138"
      },
      "source": [
        "print('Dates coincide: ', np.all(data_all.dates == data_us.dates))\n",
        "print('Cases coincide: ', np.all(data_all.cases == data_us.cases))"
      ],
      "execution_count": 10,
      "outputs": [
        {
          "output_type": "stream",
          "text": [
            "Dates coincide:  True\n",
            "Cases coincide:  True\n"
          ],
          "name": "stdout"
        }
      ]
    },
    {
      "cell_type": "code",
      "metadata": {
        "id": "qj4rAqeWbYyB",
        "colab_type": "code",
        "colab": {
          "base_uri": "https://localhost:8080/",
          "height": 217
        },
        "outputId": "72269f35-adb0-48da-b4ba-0525d93aff52"
      },
      "source": [
        "print(\"Calling `RegionData.from_ctp()`\")\n",
        "print(data_all)\n",
        "print(\"\\nCalling `RegionData.from_ctp('US')`\")\n",
        "print(data_us)"
      ],
      "execution_count": 11,
      "outputs": [
        {
          "output_type": "stream",
          "text": [
            "Calling `RegionData.from_ctp()`\n",
            "Region: United States of America, US\n",
            "N. data points: 52.\n",
            "Dates from 2020-02-28 00:00:00 to 2020-04-19 00:00:00.\n",
            "Cases at 2020-04-19 00:00:00: 749203.\n",
            "\n",
            "Calling `RegionData.from_ctp('US')`\n",
            "Region: United States of America, US\n",
            "N. data points: 52.\n",
            "Dates from 2020-02-28 00:00:00 to 2020-04-19 00:00:00.\n",
            "Cases at 2020-04-19 00:00:00: 749203.\n"
          ],
          "name": "stdout"
        }
      ]
    },
    {
      "cell_type": "code",
      "metadata": {
        "id": "Y7ZhYBJabqnh",
        "colab_type": "code",
        "colab": {
          "base_uri": "https://localhost:8080/",
          "height": 347
        },
        "outputId": "a2b3b2e4-5684-4686-d968-bab816f48856"
      },
      "source": [
        "plt.title(f'Number of COVID19 cases in {data_all.name}')\n",
        "plt.plot(data_all.dates, data_all.cases, 'o', label='`ALL`')\n",
        "plt.plot(data_us.dates, data_us.cases, '.', label=data_us.code)\n",
        "plt.xticks(rotation=70)\n",
        "plt.legend()"
      ],
      "execution_count": 12,
      "outputs": [
        {
          "output_type": "execute_result",
          "data": {
            "text/plain": [
              "<matplotlib.legend.Legend at 0x7f450f0e2470>"
            ]
          },
          "metadata": {
            "tags": []
          },
          "execution_count": 12
        },
        {
          "output_type": "display_data",
          "data": {
            "image/png": "[encoded data removed]",
            "text/plain": [
              "<Figure size 432x288 with 1 Axes>"
            ]
          },
          "metadata": {
            "tags": [],
            "needs_background": "light"
          }
        }
      ]
    },
    {
      "cell_type": "code",
      "metadata": {
        "id": "ZeuztvW4cOqx",
        "colab_type": "code",
        "colab": {}
      },
      "source": [
        ""
      ],
      "execution_count": 0,
      "outputs": []
    }
  ]
}