{
 "cells": [
  {
   "cell_type": "code",
   "execution_count": 1,
   "metadata": {},
   "outputs": [],
   "source": [
    "import pandas as pd\n",
    "import numpy as np"
   ]
  },
  {
   "cell_type": "markdown",
   "metadata": {},
   "source": [
    "### Estimating the number of cases in a region of interest\n",
    "\n",
    "The most interesting quantity for the mission of Opendemic is the number of cases in a Region Of Interest (ROI). In particular, this region will be a disk centered at the user's coordinates with a fixed radius. If one day we will have data with high spatial resolution, the disk will become a bad approximation fairly quickly. For this reason, the analysis that will be presented in the next paragraphs works for a general definition of ROI which just needs to be $L_1$ measurable, namely we want to be able to know its surface."
   ]
  },
  {
   "cell_type": "markdown",
   "metadata": {},
   "source": [
    "### Data\n",
    "In this example we will consider the case of a user located in New York City (a.k.a. *Region*) and we will use the data available at [this link](https://www.vox.com/2020/3/26/21193848/coronavirus-us-cases-deaths-tests-by-state), which claim to be provided by *COVID Tracking Project, Census Bureau* and to be updated at March 30.\n",
    "I don't know how reliable they are, but they will still be useful for our proof of concept. As soon as we have more reliable data we can plug them in the model.\n",
    "\n",
    "We will assume to know the surface and the population density of NYC."
   ]
  },
  {
   "cell_type": "code",
   "execution_count": 2,
   "metadata": {},
   "outputs": [],
   "source": [
    "# Data from https://en.wikipedia.org/wiki/New_York_City\n",
    "region_surface = 783.84 * 1e6 # square meters\n",
    "region_density = 10715 * 1e-6 # people per square meter"
   ]
  },
  {
   "cell_type": "markdown",
   "metadata": {},
   "source": [
    "Now, we want to know the rate of infected people in the area.\n",
    "The estimate can be as sophisticated as we want, but the first as-simple-as-wrong guess is that it is equal to the number of positive tests in the region divided by the total number of performed tests in the region.\n",
    "This estimate is agnostic to all the asymptomatic non-tested infected cases and assumes that all symptomatic cases have been tested."
   ]
  },
  {
   "cell_type": "code",
   "execution_count": 3,
   "metadata": {},
   "outputs": [],
   "source": [
    "positive_test = 59513\n",
    "total_test = 172360\n",
    "empirical_infected_rate = positive_test / total_test"
   ]
  },
  {
   "cell_type": "code",
   "execution_count": 4,
   "metadata": {},
   "outputs": [],
   "source": [
    "def correct_infected_rate(eir, **kwargs):\n",
    "    \"\"\"\n",
    "    Function that computes the corrected rate of infected people.\n",
    "    \n",
    "    For the moment, this function estimates the infected rate as the\n",
    "    empirical infected rate (eir). More sophisticated definitions\n",
    "    can be employed by changing this function. See for example the\n",
    "    paper about the Diamond Princes or about the Italian isolated town.\n",
    "    \n",
    "    Args:\n",
    "        eir: float empirical infected rate\n",
    "    Returns:\n",
    "        float Corrected infected rate\n",
    "    \"\"\"\n",
    "    return eir"
   ]
  },
  {
   "cell_type": "markdown",
   "metadata": {},
   "source": [
    "In order to retrieve the number of *cases around me* (CAM), we need to know the number of *people around me* (PAM) and the *infected rate* (IR), then we can compute it as follows.\n",
    "$$\n",
    "CAM = PAM \\times IR\n",
    "$$\n",
    "\n",
    "The PAM estimate can be obtained by multiplying the population density (PD) in the region by the surface of the ROI.\n",
    "\n",
    "$$\n",
    "PAM = PD \\times \\text{surface}(ROI)\n",
    "$$\n",
    "\n",
    "In this way, the CAM can be directly computed from the available quantities."
   ]
  },
  {
   "cell_type": "markdown",
   "metadata": {},
   "source": [
    "### Definition of ROI\n",
    "As we said, the simplest region of interest that we can consider is the disk centered at the user's coordinates with a fixed radius, which in this example will be equal to $1$ kilometer."
   ]
  },
  {
   "cell_type": "code",
   "execution_count": 5,
   "metadata": {},
   "outputs": [],
   "source": [
    "def surface_roi(r=1000):\n",
    "    \"\"\"\n",
    "    Function that returns the surface of the considered ROI.\n",
    "    \n",
    "    For the moment, the considered ROI is a disk of given radius.\n",
    "    \n",
    "    Args:\n",
    "        r: float Radius of the considered disk in meters. (Default: 1000 m)\n",
    "    Returns:\n",
    "        float Surface of the ROI.\n",
    "    \"\"\"\n",
    "    return np.pi * r * r"
   ]
  },
  {
   "cell_type": "code",
   "execution_count": 6,
   "metadata": {},
   "outputs": [
    {
     "name": "stdout",
     "output_type": "stream",
     "text": [
      "Cases around me:  11622.977735553215\n"
     ]
    }
   ],
   "source": [
    "pam = region_density * surface_roi()\n",
    "cam = pam * correct_infected_rate(empirical_infected_rate)\n",
    "print('Cases around me: ', cam)"
   ]
  },
  {
   "cell_type": "code",
   "execution_count": null,
   "metadata": {},
   "outputs": [],
   "source": []
  }
 ],
 "metadata": {
  "@webio": {
   "lastCommId": null,
   "lastKernelId": null
  },
  "kernelspec": {
   "display_name": "Python 3",
   "language": "python",
   "name": "python3"
  },
  "language_info": {
   "codemirror_mode": {
    "name": "ipython",
    "version": 3
   },
   "file_extension": ".py",
   "mimetype": "text/x-python",
   "name": "python",
   "nbconvert_exporter": "python",
   "pygments_lexer": "ipython3",
   "version": "3.7.4"
  }
 },
 "nbformat": 4,
 "nbformat_minor": 2
}
