{
 "cells": [
  {
   "cell_type": "code",
   "execution_count": 1,
   "metadata": {},
   "outputs": [],
   "source": [
    "import numpy as np\n",
    "import matplotlib.pyplot as plt\n",
    "%matplotlib inline\n",
    "%config InlineBackend.figure_format = 'retina'"
   ]
  },
  {
   "cell_type": "markdown",
   "metadata": {},
   "source": [
    "The `pyopendemic` package must be installed in the local environment.\n",
    "\n",
    "The `data` submodule provides a standardized interface for data in different countries/counties/regions."
   ]
  },
  {
   "cell_type": "code",
   "execution_count": 2,
   "metadata": {},
   "outputs": [],
   "source": [
    "import opendemic.data as odd"
   ]
  },
  {
   "cell_type": "markdown",
   "metadata": {},
   "source": [
    "## State-level data"
   ]
  },
  {
   "cell_type": "code",
   "execution_count": 3,
   "metadata": {},
   "outputs": [],
   "source": [
    "state = 'NY'"
   ]
  },
  {
   "cell_type": "code",
   "execution_count": 4,
   "metadata": {},
   "outputs": [],
   "source": [
    "ny_data = odd.USARegionData.fetch(state=state)"
   ]
  },
  {
   "cell_type": "code",
   "execution_count": 5,
   "metadata": {},
   "outputs": [
    {
     "data": {
      "text/plain": [
       "Region: New York, NY.\n",
       "N. data points: 52.\n",
       "Dates from 2020-03-04 00:00:00 to 2020-04-24 00:00:00.\n",
       "Cases at 2020-04-24 00:00:00: 271590.0."
      ]
     },
     "execution_count": 5,
     "metadata": {},
     "output_type": "execute_result"
    }
   ],
   "source": [
    "ny_data"
   ]
  },
  {
   "cell_type": "markdown",
   "metadata": {},
   "source": [
    "It is possible to get the dataset as 1d `numpy.ndarray`s or as pandas dataframes."
   ]
  },
  {
   "cell_type": "code",
   "execution_count": 6,
   "metadata": {},
   "outputs": [
    {
     "data": {
      "text/plain": [
       "(numpy.ndarray, numpy.ndarray)"
      ]
     },
     "execution_count": 6,
     "metadata": {},
     "output_type": "execute_result"
    }
   ],
   "source": [
    "type(ny_data.dates), type(ny_data.cases)"
   ]
  },
  {
   "cell_type": "code",
   "execution_count": 7,
   "metadata": {},
   "outputs": [
    {
     "data": {
      "text/plain": [
       "array([datetime.datetime(2020, 4, 20, 0, 0),\n",
       "       datetime.datetime(2020, 4, 21, 0, 0),\n",
       "       datetime.datetime(2020, 4, 22, 0, 0),\n",
       "       datetime.datetime(2020, 4, 23, 0, 0),\n",
       "       datetime.datetime(2020, 4, 24, 0, 0)], dtype=object)"
      ]
     },
     "execution_count": 7,
     "metadata": {},
     "output_type": "execute_result"
    }
   ],
   "source": [
    "ny_data.dates[-5:]"
   ]
  },
  {
   "cell_type": "code",
   "execution_count": 8,
   "metadata": {},
   "outputs": [
    {
     "data": {
      "text/plain": [
       "array([247512., 251690., 257216., 263460., 271590.], dtype=float32)"
      ]
     },
     "execution_count": 8,
     "metadata": {},
     "output_type": "execute_result"
    }
   ],
   "source": [
    "ny_data.cases[-5:]"
   ]
  },
  {
   "cell_type": "code",
   "execution_count": 9,
   "metadata": {},
   "outputs": [
    {
     "data": {
      "text/html": [
       "<div>\n",
       "<style scoped>\n",
       "    .dataframe tbody tr th:only-of-type {\n",
       "        vertical-align: middle;\n",
       "    }\n",
       "\n",
       "    .dataframe tbody tr th {\n",
       "        vertical-align: top;\n",
       "    }\n",
       "\n",
       "    .dataframe thead th {\n",
       "        text-align: right;\n",
       "    }\n",
       "</style>\n",
       "<table border=\"1\" class=\"dataframe\">\n",
       "  <thead>\n",
       "    <tr style=\"text-align: right;\">\n",
       "      <th></th>\n",
       "      <th>cases</th>\n",
       "      <th>new_cases</th>\n",
       "    </tr>\n",
       "  </thead>\n",
       "  <tbody>\n",
       "    <tr>\n",
       "      <th>2020-04-20</th>\n",
       "      <td>247512.0</td>\n",
       "      <td>6345.196289</td>\n",
       "    </tr>\n",
       "    <tr>\n",
       "      <th>2020-04-21</th>\n",
       "      <td>251690.0</td>\n",
       "      <td>6200.889648</td>\n",
       "    </tr>\n",
       "    <tr>\n",
       "      <th>2020-04-22</th>\n",
       "      <td>257216.0</td>\n",
       "      <td>6167.982422</td>\n",
       "    </tr>\n",
       "    <tr>\n",
       "      <th>2020-04-23</th>\n",
       "      <td>263460.0</td>\n",
       "      <td>6199.121094</td>\n",
       "    </tr>\n",
       "    <tr>\n",
       "      <th>2020-04-24</th>\n",
       "      <td>271590.0</td>\n",
       "      <td>6234.916504</td>\n",
       "    </tr>\n",
       "  </tbody>\n",
       "</table>\n",
       "</div>"
      ],
      "text/plain": [
       "               cases    new_cases\n",
       "2020-04-20  247512.0  6345.196289\n",
       "2020-04-21  251690.0  6200.889648\n",
       "2020-04-22  257216.0  6167.982422\n",
       "2020-04-23  263460.0  6199.121094\n",
       "2020-04-24  271590.0  6234.916504"
      ]
     },
     "execution_count": 9,
     "metadata": {},
     "output_type": "execute_result"
    }
   ],
   "source": [
    "df = ny_data.asdf # AS DataFrame\n",
    "df.tail(5)"
   ]
  },
  {
   "cell_type": "markdown",
   "metadata": {},
   "source": [
    "As you noticed, in the dataframe there is a column named `new_cases` which has non-integer values. These values represent the time series of the number of new cases for each day smoothed with a gaussian kernel. To get the raw increment of the number of cases one can compute\n",
    "``np.diff(RegionData.cases)``."
   ]
  },
  {
   "cell_type": "code",
   "execution_count": 10,
   "metadata": {},
   "outputs": [
    {
     "name": "stdout",
     "output_type": "stream",
     "text": [
      "smoothed:  [6345.1963 6200.8896 6167.9824 6199.121  6234.9165]\n",
      "raw:  [4726. 4178. 5526. 6244. 8130.]\n"
     ]
    }
   ],
   "source": [
    "print('smoothed: ', ny_data.new_cases[-5:])\n",
    "print('raw: ', np.diff(ny_data.cases)[-5:])"
   ]
  },
  {
   "cell_type": "markdown",
   "metadata": {},
   "source": [
    "The following plot shows that the cumulative sum of the smoothed time series of the number of new cases gives a result which is very close to the one of the raw number of total cases in each day."
   ]
  },
  {
   "cell_type": "code",
   "execution_count": 11,
   "metadata": {},
   "outputs": [
    {
     "data": {
      "text/plain": [
       "<matplotlib.legend.Legend at 0x7ff6a5b89a60>"
      ]
     },
     "execution_count": 11,
     "metadata": {},
     "output_type": "execute_result"
    },
    {
     "data": {
      "image/png": "[encoded data removed]",
      "text/plain": [
       "<Figure size 432x288 with 1 Axes>"
      ]
     },
     "metadata": {
      "image/png": {
       "height": 312,
       "width": 394
      },
      "needs_background": "light"
     },
     "output_type": "display_data"
    }
   ],
   "source": [
    "plt.plot(ny_data.dates, ny_data.cases, label='raw')\n",
    "plt.plot(ny_data.dates, np.cumsum(ny_data.new_cases), label='sum smoothed new cases')\n",
    "plt.title('Total number of cases per day')\n",
    "plt.xticks(rotation=90)\n",
    "plt.legend()"
   ]
  },
  {
   "cell_type": "markdown",
   "metadata": {},
   "source": [
    "## County-level data\n",
    "While state-level data are fetched from the [COVID tracking project](https://covidtracking.com/api), the county-level data are fetched from the [NYT github repository](https://github.com/nytimes/covid-19-data). the NYT dataset is updated many times during the day, hence the sampling is less consistent with respect to the one of the _COVID tracking project_ which is updated once every day, but has higher spatial resolution. Here an example for a single county."
   ]
  },
  {
   "cell_type": "code",
   "execution_count": 12,
   "metadata": {},
   "outputs": [],
   "source": [
    "fips = 36103 # Suffolk county, NY"
   ]
  },
  {
   "cell_type": "code",
   "execution_count": 13,
   "metadata": {},
   "outputs": [
    {
     "data": {
      "text/plain": [
       "Region: Suffolk County, NY, 36103.\n",
       "N. data points: 45.\n",
       "Dates from 2020-03-10 00:00:00 to 2020-04-23 00:00:00.\n",
       "Cases at 2020-04-23 00:00:00: 29567.0."
      ]
     },
     "execution_count": 13,
     "metadata": {},
     "output_type": "execute_result"
    }
   ],
   "source": [
    "county_data = odd.USARegionData.fetch(county=fips)\n",
    "county_data"
   ]
  },
  {
   "cell_type": "code",
   "execution_count": 14,
   "metadata": {},
   "outputs": [
    {
     "data": {
      "text/html": [
       "<div>\n",
       "<style scoped>\n",
       "    .dataframe tbody tr th:only-of-type {\n",
       "        vertical-align: middle;\n",
       "    }\n",
       "\n",
       "    .dataframe tbody tr th {\n",
       "        vertical-align: top;\n",
       "    }\n",
       "\n",
       "    .dataframe thead th {\n",
       "        text-align: right;\n",
       "    }\n",
       "</style>\n",
       "<table border=\"1\" class=\"dataframe\">\n",
       "  <thead>\n",
       "    <tr style=\"text-align: right;\">\n",
       "      <th></th>\n",
       "      <th>cases</th>\n",
       "      <th>new_cases</th>\n",
       "    </tr>\n",
       "  </thead>\n",
       "  <tbody>\n",
       "    <tr>\n",
       "      <th>2020-04-19</th>\n",
       "      <td>26888.0</td>\n",
       "      <td>794.859497</td>\n",
       "    </tr>\n",
       "    <tr>\n",
       "      <th>2020-04-20</th>\n",
       "      <td>27662.0</td>\n",
       "      <td>764.955688</td>\n",
       "    </tr>\n",
       "    <tr>\n",
       "      <th>2020-04-21</th>\n",
       "      <td>28154.0</td>\n",
       "      <td>737.982361</td>\n",
       "    </tr>\n",
       "    <tr>\n",
       "      <th>2020-04-22</th>\n",
       "      <td>28854.0</td>\n",
       "      <td>717.717407</td>\n",
       "    </tr>\n",
       "    <tr>\n",
       "      <th>2020-04-23</th>\n",
       "      <td>29567.0</td>\n",
       "      <td>706.930481</td>\n",
       "    </tr>\n",
       "  </tbody>\n",
       "</table>\n",
       "</div>"
      ],
      "text/plain": [
       "              cases   new_cases\n",
       "2020-04-19  26888.0  794.859497\n",
       "2020-04-20  27662.0  764.955688\n",
       "2020-04-21  28154.0  737.982361\n",
       "2020-04-22  28854.0  717.717407\n",
       "2020-04-23  29567.0  706.930481"
      ]
     },
     "execution_count": 14,
     "metadata": {},
     "output_type": "execute_result"
    }
   ],
   "source": [
    "county_data.asdf.tail(5)"
   ]
  },
  {
   "cell_type": "markdown",
   "metadata": {},
   "source": [
    "#### What if I specify a county in the wrong state?\n",
    "I'll try to fetch data for the fips above, which is in the state of NY, and specify Alaska as the state to fetch. If a county is specified, it will ignore the given state.\n",
    "\n",
    ">Despite existing several cases of homonymy among counties in the US, using the FIPS code bypasses this problem."
   ]
  },
  {
   "cell_type": "code",
   "execution_count": 15,
   "metadata": {},
   "outputs": [
    {
     "data": {
      "text/plain": [
       "Region: Suffolk County, NY, 36103.\n",
       "N. data points: 45.\n",
       "Dates from 2020-03-10 00:00:00 to 2020-04-23 00:00:00.\n",
       "Cases at 2020-04-23 00:00:00: 29567.0."
      ]
     },
     "execution_count": 15,
     "metadata": {},
     "output_type": "execute_result"
    }
   ],
   "source": [
    "lets_see = odd.USARegionData.fetch(state='AK', county=fips)\n",
    "lets_see"
   ]
  }
 ],
 "metadata": {
  "@webio": {
   "lastCommId": null,
   "lastKernelId": null
  },
  "kernelspec": {
   "display_name": "Python 3",
   "language": "python",
   "name": "python3"
  },
  "language_info": {
   "codemirror_mode": {
    "name": "ipython",
    "version": 3
   },
   "file_extension": ".py",
   "mimetype": "text/x-python",
   "name": "python",
   "nbconvert_exporter": "python",
   "pygments_lexer": "ipython3",
   "version": "3.8.2"
  }
 },
 "nbformat": 4,
 "nbformat_minor": 4
}
